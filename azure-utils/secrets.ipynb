{
 "cells": [
  {
   "cell_type": "markdown",
   "metadata": {},
   "source": [
    "## Set and retrieve Key Vault secrets"
   ]
  },
  {
   "cell_type": "code",
   "execution_count": null,
   "metadata": {},
   "outputs": [],
   "source": [
    "import os\n",
    "from azure.keyvault.secrets import SecretClient\n",
    "from azure.identity import DefaultAzureCredential\n",
    "\n",
    "keyVaultName = '<key-vault-name>'\n",
    "KVUri = f\"https://{keyVaultName}.vault.azure.net\"\n",
    "credential = DefaultAzureCredential()\n",
    "client = SecretClient(vault_url=KVUri, credential=credential)"
   ]
  },
  {
   "cell_type": "code",
   "execution_count": null,
   "metadata": {},
   "outputs": [],
   "source": [
    "secretName = input(\"Input a name for your secret > \")\n",
    "secretValue = input(\"Input a value for your secret > \")\n",
    "\n",
    "print(f\"Creating a secret in {keyVaultName} called '{secretName}' with the value '{secretValue}' ...\")\n",
    "client.set_secret(secretName, secretValue)\n",
    "print(\" done.\")"
   ]
  },
  {
   "cell_type": "code",
   "execution_count": null,
   "metadata": {},
   "outputs": [],
   "source": [
    "secretName = input(\"Input a name for your secret > \")\n",
    "print(f\"Retrieving your secret from {keyVaultName}.\")\n",
    "retrieved_secret = client.get_secret(secretName)"
   ]
  }
 ],
 "metadata": {
  "kernelspec": {
   "display_name": "teach_ai",
   "language": "python",
   "name": "python3"
  },
  "language_info": {
   "codemirror_mode": {
    "name": "ipython",
    "version": 3
   },
   "file_extension": ".py",
   "mimetype": "text/x-python",
   "name": "python",
   "nbconvert_exporter": "python",
   "pygments_lexer": "ipython3",
   "version": "3.9.18"
  },
  "orig_nbformat": 4
 },
 "nbformat": 4,
 "nbformat_minor": 2
}
