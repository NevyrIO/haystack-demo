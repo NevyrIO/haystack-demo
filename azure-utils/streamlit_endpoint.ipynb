{
 "cells": [
  {
   "cell_type": "code",
   "execution_count": null,
   "metadata": {},
   "outputs": [],
   "source": [
    "# To print out your streamlit app url if testing in Azure ML compute instance\n",
    "from azure.ai.ml import MLClient\n",
    "from azure.identity import DefaultAzureCredential\n",
    "import subprocess\n",
    "\n",
    "PORT = 8501\n",
    "cred = DefaultAzureCredential()\n",
    "ws = MLClient.from_config(cred)\n",
    "\n",
    "compute_name = subprocess.run(['uname', '-n'], capture_output=True).stdout.decode().strip()\n",
    "current_compute = ws.compute.get(compute_name)\n",
    "endpoint_uri = current_compute.services[0]['endpoint_uri']\n",
    "endpoint = endpoint_uri.split('/tree')[0]\n",
    "base_endpoint = endpoint.split(compute_name)[1]\n",
    "streamlit_endpoint = f'https://{compute_name}-{PORT}' + base_endpoint\n",
    "print(streamlit_endpoint)"
   ]
  }
 ],
 "metadata": {
  "kernelspec": {
   "display_name": "teach_ai",
   "language": "python",
   "name": "python3"
  },
  "language_info": {
   "codemirror_mode": {
    "name": "ipython",
    "version": 3
   },
   "file_extension": ".py",
   "mimetype": "text/x-python",
   "name": "python",
   "nbconvert_exporter": "python",
   "pygments_lexer": "ipython3",
   "version": "3.9.18"
  },
  "orig_nbformat": 4
 },
 "nbformat": 4,
 "nbformat_minor": 2
}
